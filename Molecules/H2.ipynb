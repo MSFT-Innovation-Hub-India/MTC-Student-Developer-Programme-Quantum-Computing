{
  "cells": [
    {
      "cell_type": "code",
      "execution_count": 15,
      "metadata": {
        "jupyter": {
          "outputs_hidden": false,
          "source_hidden": false
        },
        "nteract": {
          "transient": {
            "deleting": false
          }
        }
      },
      "outputs": [],
      "source": [
        "# Establishing the Molecule of choice\n",
        "from qiskit_nature.second_q.drivers import PySCFDriver\n",
        "driver = PySCFDriver(atom=\"H 0 0 0; H 0 0 0.76\", basis=\"sto-3g\")\n",
        "\n",
        "# Loading the molecular configuration [Hamiltonian]\n",
        "problem = driver.run()"
      ]
    },
    {
      "cell_type": "code",
      "execution_count": 16,
      "metadata": {
        "jupyter": {
          "outputs_hidden": false,
          "source_hidden": false
        },
        "nteract": {
          "transient": {
            "deleting": false
          }
        }
      },
      "outputs": [],
      "source": [
        "from qiskit_nature.second_q.mappers import JordanWignerMapper, BravyiKitaevMapper\n",
        "#mapper = BravyiKitaevMapper()\n",
        "\n",
        "# Mapping the Molecular Hamiltonian to a Qubit Hamiltonian\n",
        "mapper = JordanWignerMapper()"
      ]
    },
    {
      "cell_type": "code",
      "execution_count": 17,
      "metadata": {
        "jupyter": {
          "outputs_hidden": false,
          "source_hidden": false
        },
        "nteract": {
          "transient": {
            "deleting": false
          }
        }
      },
      "outputs": [
        {
          "name": "stdout",
          "output_type": "stream",
          "text": [
            "Number of qubits allocated: 4\n"
          ]
        }
      ],
      "source": [
        "# Creating an Ansatz which is an assumption of the quantum state. The UCCSD (Unitary Coupled Cluster Singles and Doubles) is the type of Ansatz used for VQE\n",
        "# Hartree Fock sets the initial state (The parameters like number of orbitals, number of electron, etc)\n",
        "\n",
        "from qiskit_nature.second_q.circuit.library import UCCSD, HartreeFock\n",
        "ansatz = UCCSD(\n",
        "    problem.num_spatial_orbitals,\n",
        "    problem.num_particles,\n",
        "    mapper,\n",
        "    initial_state=HartreeFock(\n",
        "        problem.num_spatial_orbitals,\n",
        "        problem.num_particles,\n",
        "        mapper,\n",
        "    ),\n",
        ")\n",
        "num_qubits_allocated = ansatz.num_qubits\n",
        "print(\"Number of qubits allocated:\", num_qubits_allocated)"
      ]
    },
    {
      "cell_type": "code",
      "execution_count": 18,
      "metadata": {
        "jupyter": {
          "outputs_hidden": false,
          "source_hidden": false
        },
        "nteract": {
          "transient": {
            "deleting": false
          }
        }
      },
      "outputs": [],
      "source": [
        "#Initializing the VQE with an estimator to compute the energy, with a SPSA optimizer for the Ansatz\n",
        "import numpy as np\n",
        "from qiskit.algorithms.optimizers import SPSA  #Simultaneous Perturbation Stochastic Approximation\n",
        "from qiskit.algorithms.minimum_eigensolvers import VQE\n",
        "from qiskit.primitives import Estimator\n",
        "vqe = VQE(Estimator(), ansatz, SPSA())"
      ]
    },
    {
      "cell_type": "code",
      "execution_count": 19,
      "metadata": {
        "jupyter": {
          "outputs_hidden": false,
          "source_hidden": false
        },
        "nteract": {
          "transient": {
            "deleting": false
          }
        }
      },
      "outputs": [],
      "source": [
        "# Initializing all parameters to zeros\n",
        "vqe.initial_point = np.zeros(ansatz.num_parameters)"
      ]
    },
    {
      "cell_type": "code",
      "execution_count": 7,
      "metadata": {
        "editable": false,
        "jupyter": {
          "outputs_hidden": false,
          "source_hidden": false
        },
        "nteract": {
          "transient": {
            "deleting": false
          }
        },
        "run_control": {
          "frozen": true
        }
      },
      "outputs": [
        {
          "name": "stdout",
          "output_type": "stream",
          "text": [
            "Total ground state energy = -1.1366\n"
          ]
        }
      ],
      "source": [
        "from qiskit_nature.second_q.algorithms import GroundStateEigensolver\n",
        "solver = GroundStateEigensolver(mapper, vqe)\n",
        "result = solver.solve(problem)\n",
        "\n",
        "print(f\"Total ground state energy = {result.total_energies[0]:.4f}\")"
      ]
    },
    {
      "cell_type": "markdown",
      "metadata": {
        "nteract": {
          "transient": {
            "deleting": false
          }
        }
      },
      "source": [
        "Running the VQE on a Backend"
      ]
    },
    {
      "cell_type": "code",
      "execution_count": 20,
      "metadata": {
        "jupyter": {
          "outputs_hidden": false,
          "source_hidden": false
        },
        "nteract": {
          "transient": {
            "deleting": false
          }
        }
      },
      "outputs": [],
      "source": [
        "from azure.quantum.qiskit import AzureQuantumProvider\n",
        "provider = AzureQuantumProvider(\n",
        "            resource_id = \"\",\n",
        "            location = \"East US\")"
      ]
    },
    {
      "cell_type": "code",
      "execution_count": 21,
      "metadata": {
        "jupyter": {
          "outputs_hidden": false,
          "source_hidden": false
        },
        "nteract": {
          "transient": {
            "deleting": false
          }
        }
      },
      "outputs": [
        {
          "name": "stdout",
          "output_type": "stream",
          "text": [
            "This workspace's targets:\n",
            "- ionq.simulator\n",
            "- ionq.simulator\n",
            "- ionq.simulator\n",
            "- ionq.qpu\n",
            "- ionq.qpu\n",
            "- ionq.qpu\n",
            "- ionq.qpu.aria-1\n",
            "- ionq.qpu.aria-1\n",
            "- ionq.qpu.aria-1\n",
            "- quantinuum.hqs-lt-s1-apival\n",
            "- quantinuum.hqs-lt-s1-apival\n",
            "- quantinuum.sim.h1-1sc\n",
            "- quantinuum.sim.h1-1sc\n",
            "- quantinuum.hqs-lt-s2-apival\n",
            "- quantinuum.hqs-lt-s2-apival\n",
            "- quantinuum.sim.h1-2sc\n",
            "- quantinuum.sim.h1-2sc\n",
            "- quantinuum.hqs-lt-s1-sim\n",
            "- quantinuum.hqs-lt-s1-sim\n",
            "- quantinuum.sim.h1-1e\n",
            "- quantinuum.sim.h1-1e\n",
            "- quantinuum.hqs-lt-s2-sim\n",
            "- quantinuum.hqs-lt-s2-sim\n",
            "- quantinuum.sim.h1-2e\n",
            "- quantinuum.sim.h1-2e\n",
            "- quantinuum.hqs-lt-s1\n",
            "- quantinuum.hqs-lt-s1\n",
            "- quantinuum.qpu.h1-1\n",
            "- quantinuum.qpu.h1-1\n",
            "- quantinuum.hqs-lt-s2\n",
            "- quantinuum.hqs-lt-s2\n",
            "- quantinuum.qpu.h1-2\n",
            "- quantinuum.qpu.h1-2\n",
            "- microsoft.estimator\n"
          ]
        }
      ],
      "source": [
        "print(\"This workspace's targets:\")\n",
        "for backend in provider.backends():\n",
        "    print(\"- \" + backend.name())"
      ]
    },
    {
      "cell_type": "code",
      "execution_count": 22,
      "metadata": {
        "editable": true,
        "jupyter": {
          "outputs_hidden": false,
          "source_hidden": false
        },
        "nteract": {
          "transient": {
            "deleting": false
          }
        },
        "run_control": {
          "frozen": false
        }
      },
      "outputs": [],
      "source": [
        "ionq_sim = provider.get_backend('ionq.qpu.aria-1')\n",
        "backend_to_use = ionq_sim"
      ]
    },
    {
      "cell_type": "code",
      "execution_count": 23,
      "metadata": {
        "editable": true,
        "jupyter": {
          "outputs_hidden": false,
          "source_hidden": false
        },
        "nteract": {
          "transient": {
            "deleting": false
          }
        },
        "run_control": {
          "frozen": false
        }
      },
      "outputs": [
        {
          "name": "stdout",
          "output_type": "stream",
          "text": [
            "Number of qubits used in IonQ: 23\n"
          ]
        }
      ],
      "source": [
        "from qiskit_nature.second_q.algorithms import GroundStateEigensolver\n",
        "\n",
        "# The GroundStateEigensolver creates an instance of the class and initializes it with the vqe and mapper\n",
        "solver = GroundStateEigensolver(mapper, vqe)\n",
        "\n",
        "# Creating a session to be submitted to the QPU\n",
        "with backend_to_use.open_session(name=\"VQE H2\") as session:\n",
        "    backend_props = backend_to_use.properties()\n",
        "   \n",
        "    result = solver.solve(problem)\n",
        "\n",
        "num_qubits_ionq = backend_to_use.configuration().n_qubits\n",
        "\n",
        "print(\"Number of qubits used in IonQ:\", num_qubits_ionq)"
      ]
    },
    {
      "cell_type": "code",
      "execution_count": 24,
      "metadata": {
        "editable": true,
        "jupyter": {
          "outputs_hidden": false,
          "source_hidden": false
        },
        "nteract": {
          "transient": {
            "deleting": false
          }
        },
        "run_control": {
          "frozen": false
        }
      },
      "outputs": [
        {
          "name": "stdout",
          "output_type": "stream",
          "text": [
            "AzureQuantum ionq.qpu.aria-1 result:\n",
            "\n",
            "-1.8328524309582364\n"
          ]
        }
      ],
      "source": [
        "# Printing the result\n",
        "print(\"AzureQuantum \" + backend_to_use.name() + \" result:\\n\")\n",
        "print(result.groundenergy)"
      ]
    }
  ],
  "metadata": {
    "kernel_info": {
      "name": "python3"
    },
    "kernelspec": {
      "display_name": "Python 3 (ipykernel)",
      "language": "python",
      "name": "python3"
    },
    "language_info": {
      "codemirror_mode": {
        "name": "ipython",
        "version": 3
      },
      "file_extension": ".py",
      "mimetype": "text/x-python",
      "name": "python",
      "nbconvert_exporter": "python",
      "pygments_lexer": "ipython3",
      "version": "3.9.16"
    },
    "nteract": {
      "version": "nteract-front-end@1.0.0"
    }
  },
  "nbformat": 4,
  "nbformat_minor": 0
}
