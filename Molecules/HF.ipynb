{
  "cells": [
    {
      "cell_type": "code",
      "source": [
        "# Establishing the Molecule of choice\r\n",
        "from qiskit_nature.second_q.drivers import PySCFDriver\r\n",
        "driver = PySCFDriver(atom=\"H 0 0 0; F 0 0 1.6\", basis=\"sto-3g\")\r\n",
        "# Loading the molecular configuration [Hamiltonian]\r\n",
        "problem = driver.run()"
      ],
      "outputs": [],
      "execution_count": 2,
      "metadata": {
        "jupyter": {
          "source_hidden": false,
          "outputs_hidden": false
        },
        "nteract": {
          "transient": {
            "deleting": false
          }
        }
      }
    },
    {
      "cell_type": "code",
      "source": [
        "from qiskit_nature.second_q.mappers import JordanWignerMapper, BravyiKitaevMapper\r\n",
        "#mapper = BravyiKitaevMapper()\r\n",
        "# Mapping the Molecular Hamiltonian to a Qubit Hamiltonian\r\n",
        "mapper = JordanWignerMapper()"
      ],
      "outputs": [],
      "execution_count": 3,
      "metadata": {
        "jupyter": {
          "source_hidden": false,
          "outputs_hidden": false
        },
        "nteract": {
          "transient": {
            "deleting": false
          }
        }
      }
    },
    {
      "cell_type": "code",
      "source": [
        "# Creating an Ansatz which is an assumption of the quantum state. The UCCSD (Unitary Coupled Cluster Singles and Doubles) is the type of Ansatz used for VQE\r\n",
        "# Hartree Fock sets the initial state (The parameters like number of orbitals, number of electron, etc)\r\n",
        "from qiskit_nature.second_q.circuit.library import UCCSD, HartreeFock\r\n",
        "ansatz = UCCSD(\r\n",
        "    problem.num_spatial_orbitals,\r\n",
        "    problem.num_particles,\r\n",
        "    mapper,\r\n",
        "    initial_state=HartreeFock(\r\n",
        "        problem.num_spatial_orbitals,\r\n",
        "        problem.num_particles,\r\n",
        "        mapper,\r\n",
        "    ),\r\n",
        ")\r\n",
        "num_qubits_allocated = ansatz.num_qubits\r\n",
        "print(\"Number of qubits allocated:\", num_qubits_allocated)"
      ],
      "outputs": [
        {
          "output_type": "stream",
          "name": "stdout",
          "text": "Number of qubits allocated: 12\n"
        },
        {
          "output_type": "stream",
          "name": "stderr",
          "text": "/usr/local/lib/python3.9/site-packages/qiskit_nature/deprecation.py:297: PauliSumOpDeprecationWarning: PauliSumOp is deprecated as of version 0.6.0 and support for them will be removed no sooner than 3 months after the release. Instead, use SparsePauliOp. You can switch to SparsePauliOp immediately, by setting `qiskit_nature.settings.use_pauli_sum_op` to `False`.\n  return func(*args, **kwargs)\n"
        }
      ],
      "execution_count": 4,
      "metadata": {
        "jupyter": {
          "source_hidden": false,
          "outputs_hidden": false
        },
        "nteract": {
          "transient": {
            "deleting": false
          }
        }
      }
    },
    {
      "cell_type": "code",
      "source": [
        "#Initializing the VQE with an estimator to compute the energy, with a SPSA optimizer for the Ansatz\r\n",
        "import numpy as np\r\n",
        "from qiskit.algorithms.optimizers import SPSA #Simultaneous Perturbation Stochastic Approximation\r\n",
        "from qiskit.algorithms.minimum_eigensolvers import VQE\r\n",
        "from qiskit.primitives import Estimator\r\n",
        "vqe = VQE(Estimator(), ansatz, SPSA())"
      ],
      "outputs": [],
      "execution_count": 5,
      "metadata": {
        "jupyter": {
          "source_hidden": false,
          "outputs_hidden": false
        },
        "nteract": {
          "transient": {
            "deleting": false
          }
        }
      }
    },
    {
      "cell_type": "code",
      "source": [
        "# Initializing all parameters to zeros\r\n",
        "vqe.initial_point = np.zeros(ansatz.num_parameters)"
      ],
      "outputs": [],
      "execution_count": 6,
      "metadata": {
        "jupyter": {
          "source_hidden": false,
          "outputs_hidden": false
        },
        "nteract": {
          "transient": {
            "deleting": false
          }
        }
      }
    },
    {
      "cell_type": "code",
      "source": [
        "from azure.quantum.qiskit import AzureQuantumProvider\r\n",
        "\r\n",
        "provider = AzureQuantumProvider(\r\n",
        "            resource_id = \"/subscriptions/61fbc32c-9633-42bf-bfb5-2a8b3aeed21d/resourceGroups/mtc-quantum-rg/providers/Microsoft.Quantum/Workspaces/ComputingQuantum26\",\r\n",
        "            location = \"East US\")"
      ],
      "outputs": [],
      "execution_count": 8,
      "metadata": {
        "jupyter": {
          "source_hidden": false,
          "outputs_hidden": false
        },
        "nteract": {
          "transient": {
            "deleting": false
          }
        }
      }
    },
    {
      "cell_type": "code",
      "source": [
        "print(\"This workspace's targets:\")\r\n",
        "for backend in provider.backends():\r\n",
        "    print(\"- \" + backend.name())"
      ],
      "outputs": [
        {
          "output_type": "stream",
          "name": "stdout",
          "text": "This workspace's targets:\n- ionq.simulator\n- ionq.simulator\n- ionq.simulator\n- ionq.qpu\n- ionq.qpu\n- ionq.qpu\n- ionq.qpu.aria-1\n- ionq.qpu.aria-1\n- ionq.qpu.aria-1\n- quantinuum.hqs-lt-s1-apival\n- quantinuum.hqs-lt-s1-apival\n- quantinuum.sim.h1-1sc\n- quantinuum.sim.h1-1sc\n- quantinuum.hqs-lt-s2-apival\n- quantinuum.hqs-lt-s2-apival\n- quantinuum.sim.h1-2sc\n- quantinuum.sim.h1-2sc\n- quantinuum.hqs-lt-s1-sim\n- quantinuum.hqs-lt-s1-sim\n- quantinuum.sim.h1-1e\n- quantinuum.sim.h1-1e\n- quantinuum.hqs-lt-s2-sim\n- quantinuum.hqs-lt-s2-sim\n- quantinuum.sim.h1-2e\n- quantinuum.sim.h1-2e\n- quantinuum.hqs-lt-s1\n- quantinuum.hqs-lt-s1\n- quantinuum.qpu.h1-1\n- quantinuum.qpu.h1-1\n- quantinuum.hqs-lt-s2\n- quantinuum.hqs-lt-s2\n- quantinuum.qpu.h1-2\n- quantinuum.qpu.h1-2\n- microsoft.estimator\n"
        }
      ],
      "execution_count": 9,
      "metadata": {
        "jupyter": {
          "source_hidden": false,
          "outputs_hidden": false
        },
        "nteract": {
          "transient": {
            "deleting": false
          }
        }
      }
    },
    {
      "cell_type": "code",
      "source": [
        "ionq_sim = provider.get_backend('ionq.qpu.aria-1')\r\n",
        "backend_to_use = ionq_sim"
      ],
      "outputs": [],
      "execution_count": 10,
      "metadata": {
        "jupyter": {
          "source_hidden": false,
          "outputs_hidden": false
        },
        "nteract": {
          "transient": {
            "deleting": false
          }
        },
        "editable": true,
        "run_control": {
          "frozen": false
        }
      }
    },
    {
      "cell_type": "code",
      "source": [
        "from qiskit_nature.second_q.algorithms import GroundStateEigensolver\r\n",
        "# The GroundStateEigensolver creates an instance of the class and initializes it with the vqe and mapper\r\n",
        "\r\n",
        "solver = GroundStateEigensolver(mapper, vqe)\r\n",
        "\r\n",
        "# Creating a session to be submitted to the QPU\r\n",
        "with backend_to_use.open_session(name=\"VQE H2\") as session:\r\n",
        "    backend_props = backend_to_use.properties()\r\n",
        "   \r\n",
        "    result = solver.solve(problem)\r\n",
        "\r\n",
        "\r\n",
        "num_qubits_ionq = backend_to_use.configuration().n_qubits\r\n",
        "\r\n",
        "print(\"Number of qubits used :\", num_qubits_ionq)"
      ],
      "outputs": [
        {
          "output_type": "stream",
          "name": "stdout",
          "text": "Number of qubits used : 23\n"
        }
      ],
      "execution_count": 14,
      "metadata": {
        "jupyter": {
          "source_hidden": false,
          "outputs_hidden": false
        },
        "nteract": {
          "transient": {
            "deleting": false
          }
        },
        "editable": true,
        "run_control": {
          "frozen": false
        }
      }
    },
    {
      "cell_type": "code",
      "source": [
        "# Printing the result\r\n",
        "print(\"AzureQuantum \" + backend_to_use.name() + \" result:\\n\")\r\n",
        "print(result.groundenergy)"
      ],
      "outputs": [
        {
          "output_type": "stream",
          "name": "stdout",
          "text": "AzureQuantum ionq.qpu.aria-1 result:\n\n-101.03888700708697\n"
        }
      ],
      "execution_count": 16,
      "metadata": {
        "jupyter": {
          "source_hidden": false,
          "outputs_hidden": false
        },
        "nteract": {
          "transient": {
            "deleting": false
          }
        },
        "editable": true,
        "run_control": {
          "frozen": false
        }
      }
    }
  ],
  "metadata": {
    "language_info": {
      "name": "python",
      "version": "3.9.16",
      "mimetype": "text/x-python",
      "codemirror_mode": {
        "name": "ipython",
        "version": 3
      },
      "pygments_lexer": "ipython3",
      "nbconvert_exporter": "python",
      "file_extension": ".py"
    },
    "kernelspec": {
      "name": "python3",
      "language": "python",
      "display_name": "Python 3 (ipykernel)"
    },
    "kernel_info": {
      "name": "python3"
    },
    "nteract": {
      "version": "nteract-front-end@1.0.0"
    }
  },
  "nbformat": 4,
  "nbformat_minor": 0
}